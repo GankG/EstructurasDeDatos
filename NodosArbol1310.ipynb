{
  "nbformat": 4,
  "nbformat_minor": 0,
  "metadata": {
    "colab": {
      "name": "NodosArbol1310.ipynb",
      "provenance": [],
      "authorship_tag": "ABX9TyPYCZFdfGvOBWWFqZeZA+uC",
      "include_colab_link": true
    },
    "kernelspec": {
      "name": "python3",
      "display_name": "Python 3"
    },
    "language_info": {
      "name": "python"
    }
  },
  "cells": [
    {
      "cell_type": "markdown",
      "metadata": {
        "id": "view-in-github",
        "colab_type": "text"
      },
      "source": [
        "<a href=\"https://colab.research.google.com/github/GankG/EstructurasDeDatos/blob/main/NodosArbol1310.ipynb\" target=\"_parent\"><img src=\"https://colab.research.google.com/assets/colab-badge.svg\" alt=\"Open In Colab\"/></a>"
      ]
    },
    {
      "cell_type": "code",
      "metadata": {
        "id": "oapjNu0FCc4u"
      },
      "source": [
        "class NodoBinario:\n",
        "    def __init__( self, value , left=None , right = None ):\n",
        "        self.data = value\n",
        "        self.left = left\n",
        "        self.right = right\n",
        "\n",
        "class NodoTernario:\n",
        "    def __init__( self, value , left=None , center=None , right = None ):\n",
        "        self.data = value\n",
        "        self.left = left\n",
        "        self.center = center\n",
        "        self.right = right"
      ],
      "execution_count": 1,
      "outputs": []
    },
    {
      "cell_type": "code",
      "metadata": {
        "colab": {
          "base_uri": "https://localhost:8080/"
        },
        "id": "Hg6F6NaBCh8a",
        "outputId": "c1f83fb8-5656-4e32-e002-dc79b5dedf23"
      },
      "source": [
        "arbol1 = NodoBinario( \"R\" , NodoBinario(\"C\") , NodoBinario(\"H\") )\n",
        "print( arbol1.right.data)\n",
        "\n",
        "arbol2 = NodoTernario( 4 , NodoTernario( 3 , NodoTernario(5 , left=NodoTernario(2) ) \\\n",
        "        , NodoTernario(5) , NodoTernario(2) )  , None , NodoTernario(5) )\n",
        "print( arbol2.left.right.data)\n",
        "print( arbol2.data)\n",
        "print( arbol2.left.center.data)\n",
        "print( arbol2.right.left)\n",
        "print( arbol2.left.left.left.data)\n",
        "print(\"----- Sin usar print ----\")\n",
        "ejemplo = arbol2.left.left.left.data\n",
        "print(ejemplo)\n",
        "print(\"---- Otra manera: ----\")\n",
        "aux = arbol2\n",
        "while( aux.left != None):\n",
        "    aux = aux.left\n",
        "print( aux.data )"
      ],
      "execution_count": 8,
      "outputs": [
        {
          "output_type": "stream",
          "name": "stdout",
          "text": [
            "H\n",
            "2\n",
            "4\n",
            "5\n",
            "None\n",
            "2\n",
            "----- Sin usar print ----\n",
            "2\n",
            "---- Otra manera: ----\n",
            "2\n"
          ]
        }
      ]
    },
    {
      "cell_type": "code",
      "metadata": {
        "colab": {
          "base_uri": "https://localhost:8080/"
        },
        "id": "q8HdOGDMClah",
        "outputId": "6331de0d-432b-4235-dcba-2105e9888d4c"
      },
      "source": [
        "root = NodoBinario(\"Santi\",None,NodoBinario(\"Jesus\",NodoBinario(\"Pedro\",None,NodoBinario(\" Pedro Jr.\"))))\n",
        "print(root.right.left.right.data)"
      ],
      "execution_count": 9,
      "outputs": [
        {
          "output_type": "stream",
          "name": "stdout",
          "text": [
            " Pedro Jr.\n"
          ]
        }
      ]
    },
    {
      "cell_type": "code",
      "metadata": {
        "id": "CRwgY8Q_CnRB"
      },
      "source": [
        "class BinaryNode:\n",
        "    def __init__( self, value , left=None , right = None ):\n",
        "        self.data = value\n",
        "        self.left = left\n",
        "        self.right = right\n",
        "\n",
        "class BinarySearchTree:\n",
        "    def __init__( self ):\n",
        "        self.root = None\n",
        "\n",
        "    def insert( self , value):\n",
        "        if self.root == None:\n",
        "            self.root = BinaryNode( value )\n",
        "        else:\n",
        "            self.__insert_nodo( self.root , value )\n",
        "\n",
        "    def __insert_nodo( self , nodo , value ):\n",
        "        if nodo.data == value:\n",
        "            pass\n",
        "        elif value < nodo.data: #ir a la izquierda\n",
        "            if nodo.left == None:\n",
        "                nodo.left = BinaryNode( value )\n",
        "            else:\n",
        "                self.__insert_nodo( nodo.left , value )\n",
        "        else: # ir a la derecha\n",
        "            if nodo.right == None:\n",
        "                nodo.right = BinaryNode( value )\n",
        "            else:\n",
        "                self.__insert_nodo( nodo.right , value)\n",
        "\n",
        "    def transversal( self , formato = \"posorden\"):\n",
        "        if formato == \"posorden\":\n",
        "            self.recorrido_pos( self.root )\n",
        "        elif formato == \"preorden\":\n",
        "            self.recorrido_pre( self.root )\n",
        "        else: #inorden\n",
        "            self.recorrido_in( self.root )\n",
        "        print()\n",
        "    def recorrido_pos( self , nodo ):\n",
        "        if nodo !=None:\n",
        "            self.recorrido_pos( nodo.left )\n",
        "            self.recorrido_pos( nodo.right )\n",
        "            print( str(nodo.data) , end=\" , \" )\n",
        "    \n",
        "    def recorrido_pre( self , nodo ):\n",
        "        if nodo !=None:\n",
        "            print( str(nodo.data) , end=\" , \" )\n",
        "            self.recorrido_pre( nodo.left )\n",
        "            self.recorrido_pre( nodo.right )\n",
        "                        \n",
        "    def recorrido_in( self , nodo ):\n",
        "        if nodo !=None:\n",
        "            self.recorrido_in( nodo.left )\n",
        "            print( str(nodo.data) , end=\" , \" )\n",
        "            self.recorrido_in( nodo.right )\n",
        "            \n",
        "    def search( self , value ):\n",
        "        if self.root == None:\n",
        "            print(\"El arbol esta vacio\")\n",
        "            return None\n",
        "        else:\n",
        "            self.seaarch( self.root , value )\n",
        "\n",
        "    def __search( self , nodo , value ):\n",
        "        if nodo.data == None:\n",
        "            print(\"El dato no exite en el \")\n",
        "            return None\n",
        "        elif nodo.data == value:\n",
        "            print(\"Encontrado\")\n",
        "            return nodo \n",
        "        elif value < nodo.data:\n",
        "            return self.__buscar( nodo.left , value )\n",
        "        else:\n",
        "            return self.__buscar( nodo.right , value )"
      ],
      "execution_count": 10,
      "outputs": []
    },
    {
      "cell_type": "code",
      "metadata": {
        "colab": {
          "base_uri": "https://localhost:8080/"
        },
        "id": "TVhyGwa2Csfx",
        "outputId": "043f73f1-6119-4fda-f60c-1908a905f919"
      },
      "source": [
        "arb1 = BinarySearchTree()\n",
        "arb1.insert(60)\n",
        "arb1.insert(30)\n",
        "arb1.insert(15)\n",
        "arb1.insert(40)\n",
        "arb1.transversal(\"Postorden\")\n",
        "arb1.transversal(\"Preorden\")\n",
        "arb1.transversal(\"Inorden\")"
      ],
      "execution_count": 11,
      "outputs": [
        {
          "output_type": "stream",
          "name": "stdout",
          "text": [
            "15 , 30 , 40 , 60 , \n",
            "15 , 30 , 40 , 60 , \n",
            "15 , 30 , 40 , 60 , \n"
          ]
        }
      ]
    }
  ]
}