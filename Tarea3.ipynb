{
  "nbformat": 4,
  "nbformat_minor": 0,
  "metadata": {
    "colab": {
      "name": "Tarea3.ipynb",
      "provenance": [],
      "authorship_tag": "ABX9TyNRGaivyuf7LT2MCkNslU5e",
      "include_colab_link": true
    },
    "kernelspec": {
      "name": "python3",
      "display_name": "Python 3"
    },
    "language_info": {
      "name": "python"
    }
  },
  "cells": [
    {
      "cell_type": "markdown",
      "metadata": {
        "id": "view-in-github",
        "colab_type": "text"
      },
      "source": [
        "<a href=\"https://colab.research.google.com/github/GankG/EstructurasDeDatos/blob/main/Tarea3.ipynb\" target=\"_parent\"><img src=\"https://colab.research.google.com/assets/colab-badge.svg\" alt=\"Open In Colab\"/></a>"
      ]
    },
    {
      "cell_type": "code",
      "metadata": {
        "colab": {
          "base_uri": "https://localhost:8080/"
        },
        "id": "LhdC6zJW2wRm",
        "outputId": "8c271adc-9efd-41fb-8d7c-80931850b3d7"
      },
      "source": [
        "#Tarea 3 \n",
        "print(\"Detalle: \")\n",
        "\n",
        "#Lista proporcionada\n",
        "menu_select = ['mesa=3','comensal=2','entrada','=\"Ensalada verde\"','medio=','\"crema de zanahoria\"','fuerte=','\"filete\"', 'adicionales=','\"Filete término medio la ensalada sin ningun tipo de semilla, Adereso Ranch\"']\n",
        "\n",
        "#Un -for- para reemplazar todos los '=' con ':' e imprimir al mismo tiempo los elementos de la lista de acuerdo a lo requerido en la imágen.\n",
        "for i, ele in enumerate(menu_select):\n",
        "  ele = ele.replace('=',':')\n",
        "  if i == 0 or i == 1:\n",
        "    print(\"\\t\",ele.upper())\n",
        "  elif (i+1) %2 != 0:\n",
        "    print(\"\\t\",ele.upper(),end=\"\")\n",
        "  else:\n",
        "    print(\"\",ele)\n",
        "    "
      ],
      "execution_count": null,
      "outputs": [
        {
          "output_type": "stream",
          "name": "stdout",
          "text": [
            "Detalle: \n",
            "\t MESA:3\n",
            "\t COMENSAL:2\n",
            "\t ENTRADA :\"Ensalada verde\"\n",
            "\t MEDIO: \"crema de zanahoria\"\n",
            "\t FUERTE: \"filete\"\n",
            "\t ADICIONALES: \"Filete término medio la ensalada sin ningun tipo de semilla, Adereso Ranch\"\n"
          ]
        }
      ]
    }
  ]
}