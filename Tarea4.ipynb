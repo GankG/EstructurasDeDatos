{
  "nbformat": 4,
  "nbformat_minor": 0,
  "metadata": {
    "colab": {
      "name": "Tarea4.ipynb",
      "provenance": [],
      "authorship_tag": "ABX9TyNlEfAprX1M4ainpVSKfeoe",
      "include_colab_link": true
    },
    "kernelspec": {
      "name": "python3",
      "display_name": "Python 3"
    },
    "language_info": {
      "name": "python"
    }
  },
  "cells": [
    {
      "cell_type": "markdown",
      "metadata": {
        "id": "view-in-github",
        "colab_type": "text"
      },
      "source": [
        "<a href=\"https://colab.research.google.com/github/GankG/EstructurasDeDatos/blob/main/Tarea4.ipynb\" target=\"_parent\"><img src=\"https://colab.research.google.com/assets/colab-badge.svg\" alt=\"Open In Colab\"/></a>"
      ]
    },
    {
      "cell_type": "code",
      "metadata": {
        "colab": {
          "base_uri": "https://localhost:8080/"
        },
        "id": "skzV2QDJDHhw",
        "outputId": "fc2fd956-50c3-4fb9-a367-a69ce5a8a4e0"
      },
      "source": [
        "#Tarea 4\n",
        "from math import sqrt\n",
        "\n",
        "def formulaGeneral(a,b,c):\n",
        "  #Siguiendo la fórmula general, nos indica que debemos seguir: x = (-b +- raiz(b^2 - 4ac)) / 2a\n",
        "  if ((b**2)-4*a*c) < 0:\n",
        "    return \"La solucion es con números complejos, o comúnmente, no tiene solución.\"\n",
        "  else:\n",
        "    #Obtener raiz positiva y\n",
        "    x1 = ((-b) + sqrt(b**2 - (4*a*c)))/(2 * a)\n",
        "    x2 = ((-b) - sqrt(b**2 - (4*a*c)))/(2 * a)\n",
        "    solution =\"\\tx1 = \" + format(x1, 'f') + \"\\n\" + \"\\tx2 = \" + format(x2, 'f')\n",
        "    return solution\n",
        "  \n",
        "\n",
        "\n",
        "print(\"Una ecuación de segundo grado tiene la forma: ax^2 + bx + c = 0 \\nEn éste programa se resolverá mediante la 'fórmula general'\\n\")\n",
        "\n",
        "#Asignar los coeficientes a las variables a, b y c con respecto a la ecuación cuadrática\n",
        "a, b, c = [float(input(f'Ingresa la variable \"{ecVar}\": ')) for ecVar in (\"a\", \"b\", \"c\")]\n",
        "print(\"Solución: \\n\",formulaGeneral(a,b,c))"
      ],
      "execution_count": 23,
      "outputs": [
        {
          "output_type": "stream",
          "name": "stdout",
          "text": [
            "Una ecuación de segundo grado tiene la forma: ax^2 + bx + c = 0 \n",
            "En éste programa se resolverá mediante la 'fórmula general'\n",
            "\n",
            "Ingresa la variable \"a\": 1\n",
            "Ingresa la variable \"b\": -5\n",
            "Ingresa la variable \"c\": 6\n",
            "Solución: \n",
            " \tx1 = 3.000000\n",
            "\tx2 = 2.000000\n"
          ]
        }
      ]
    }
  ]
}